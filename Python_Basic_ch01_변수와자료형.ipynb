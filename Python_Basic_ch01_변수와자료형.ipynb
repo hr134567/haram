{
 "cells": [
  {
   "cell_type": "markdown",
   "id": "dfe28c6c",
   "metadata": {},
   "source": [
    "## 1. 출력 함수(print)\n",
    "print() 함수\n",
    "- ()안의 값을 출력해주는 함수\n",
    "- 변수 값을 확인하는 용도로도 사용"
   ]
  },
  {
   "cell_type": "code",
   "execution_count": 2,
   "id": "b9b469f4",
   "metadata": {},
   "outputs": [
    {
     "name": "stdout",
     "output_type": "stream",
     "text": [
      "Hello Python\n",
      "Hello python\n",
      "25\n",
      "3.14\n",
      "True\n"
     ]
    }
   ],
   "source": [
    "print(\"Hello Python\")\n",
    "print('Hello python')\n",
    "print(25)\n",
    "print(3.14)\n",
    "print(True)"
   ]
  },
  {
   "cell_type": "markdown",
   "id": "9c3ae3b0",
   "metadata": {},
   "source": [
    "### 참고. Escape 코드\n",
    "- 문자열 내의 일부 문자의 의미를 달리하여 특정한 효과를 주는 것\n",
    "- \\n : 한 줄 개행\n",
    "- \\t : 탭(8칸 공백)"
   ]
  },
  {
   "cell_type": "code",
   "execution_count": 3,
   "id": "0f2caba0",
   "metadata": {},
   "outputs": [
    {
     "name": "stdout",
     "output_type": "stream",
     "text": [
      "Hello \n",
      " Python\n",
      "Hello \t Python\n"
     ]
    }
   ],
   "source": [
    "print(\"Hello \\n Python\")\n",
    "print(\"Hello \\t Python\")"
   ]
  },
  {
   "cell_type": "markdown",
   "id": "716bb4e4",
   "metadata": {},
   "source": [
    "소수점 출력하기\n",
    "- {0:3d} : 0번쨰, 3글자, d(정수)\n",
    "- {1:3.2f} : 1번쨰, 3번쨰, 소수점 2자리, f(실수)"
   ]
  },
  {
   "cell_type": "code",
   "execution_count": 7,
   "id": "18ce9814",
   "metadata": {},
   "outputs": [
    {
     "name": "stdout",
     "output_type": "stream",
     "text": [
      "이름 : 최철웅, 학점 : 4.5\n",
      "이름 : 최철웅, 학점 : 4.5\n",
      "Test1 : 369, Test2 : 623.4567\n",
      "Test1 : 369, Test2 : 623.46\n"
     ]
    }
   ],
   "source": [
    "print(\"이름 : 최철웅, 학점 : 4.5\")\n",
    "print(\"이름 : {}, 학점 : {}\".format(\"최철웅\", 4.5))\n",
    "print(\"Test1 : {}, Test2 : {}\".format(369, 623.4567))\n",
    "print(\"Test1 : {0:3d}, Test2 : {1:3.2f}\".format(369, 623.4567))"
   ]
  },
  {
   "cell_type": "markdown",
   "id": "42d9e250",
   "metadata": {},
   "source": [
    "### 2. 주석(comment)\n",
    "- 코드에서 #으로 시작하는 뒷 부분을 실행하지 않음\n",
    "- python 소스코드 실행시 #은 무시하고 실행\n",
    "- 개발자(사람)가 보기 위한 용도로 사용\n",
    "- 개발시 주석을 잘 활용하는 사람이 좋은 개발자"
   ]
  },
  {
   "cell_type": "code",
   "execution_count": 10,
   "id": "e55204ef",
   "metadata": {},
   "outputs": [
    {
     "name": "stdout",
     "output_type": "stream",
     "text": [
      "233596\n"
     ]
    }
   ],
   "source": [
    "student_num = \"233596\" #학번\n",
    "\n",
    "#학번 출력\n",
    "print(student_num)"
   ]
  },
  {
   "cell_type": "markdown",
   "id": "a9642c02",
   "metadata": {},
   "source": [
    "### 3.자료형(Type)\n",
    "- 문자열(String) : \"Hello\", 'Hi'(쌍따움표 지향)\n",
    "- 정수형 숫자(int) : 3. 0. -1\n",
    "- 실수형 숫자(float) : 3.1, 0.0, -2.2\n",
    "- 논리형(boolean) : True, False (첫 글자는 대문자)\n",
    "\n",
    "- type() 함수를 사용해서 자료형 확인 가능"
   ]
  },
  {
   "cell_type": "code",
   "execution_count": 12,
   "id": "f60b181c",
   "metadata": {},
   "outputs": [
    {
     "data": {
      "text/plain": [
       "str"
      ]
     },
     "execution_count": 12,
     "metadata": {},
     "output_type": "execute_result"
    }
   ],
   "source": [
    "type(3.14)\n",
    "type(\"Hi\")  #주피터 노트북 한정 마지막줄 출력"
   ]
  },
  {
   "cell_type": "code",
   "execution_count": 14,
   "id": "1333b6e0",
   "metadata": {},
   "outputs": [
    {
     "name": "stdout",
     "output_type": "stream",
     "text": [
      "<class 'float'>\n",
      "<class 'str'>\n"
     ]
    }
   ],
   "source": [
    "print(type(3.14))\n",
    "print(type(\"Hi\"))"
   ]
  },
  {
   "cell_type": "markdown",
   "id": "2064a751",
   "metadata": {},
   "source": [
    "형변환(Type Casting)\n",
    "\n",
    "- 형변환을 사용하면 자료형을 원하는 type으로 변환 가능\n",
    "\n",
    "1. int() : ()안의 값을 정수형 변환\n",
    "2. float() : ()안의 값을 실수형 변환\n",
    "3. str() : ()안의 값을 문자열형 변환"
   ]
  },
  {
   "cell_type": "code",
   "execution_count": 23,
   "id": "0e326ec8",
   "metadata": {},
   "outputs": [
    {
     "name": "stdout",
     "output_type": "stream",
     "text": [
      "3\n",
      "3.0\n",
      "3\n",
      "3.14\n",
      "3.0\n"
     ]
    }
   ],
   "source": [
    "# int(\"hello\")  (x)\n",
    "# float(\"hi\")   (x)\n",
    "\n",
    "# 실수형 -> 정수형 (o)\n",
    "a = 3.14\n",
    "print(int(a))\n",
    "\n",
    "# 정수형 -> 실수형 (o)\n",
    "b = 3\n",
    "print(float(b))\n",
    "\n",
    "# 문자열 정수 -> 정수형 (o)\n",
    "c = \"3\"          #string\n",
    "print(int(c))\n",
    "\n",
    "# 문자열 실수형 -> 실수형 (o)\n",
    "d = \"3.14\"\n",
    "print(float(d))\n",
    "\n",
    "#문자열 실수형 -> 정수형  (x)\n",
    "#int(int(d))\n",
    "\n",
    "#문자열 정수형 -> 실수형  (o)\n",
    "print(float(c))"
   ]
  }
 ],
 "metadata": {
  "kernelspec": {
   "display_name": "Python 3 (ipykernel)",
   "language": "python",
   "name": "python3"
  },
  "language_info": {
   "codemirror_mode": {
    "name": "ipython",
    "version": 3
   },
   "file_extension": ".py",
   "mimetype": "text/x-python",
   "name": "python",
   "nbconvert_exporter": "python",
   "pygments_lexer": "ipython3",
   "version": "3.9.7"
  }
 },
 "nbformat": 4,
 "nbformat_minor": 5
}
